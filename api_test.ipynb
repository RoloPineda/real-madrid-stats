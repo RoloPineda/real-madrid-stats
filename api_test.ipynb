{
 "cells": [
  {
   "cell_type": "code",
   "execution_count": 3,
   "metadata": {
    "collapsed": true
   },
   "outputs": [
    {
     "name": "stdout",
     "output_type": "stream",
     "text": [
      "{\"get\":\"teams\\/statistics\",\"parameters\":{\"league\":\"140\",\"season\":\"2021\",\"team\":\"541\"},\"errors\":[],\"results\":11,\"paging\":{\"current\":1,\"total\":1},\"response\":{\"league\":{\"id\":140,\"name\":\"La Liga\",\"country\":\"Spain\",\"logo\":\"https:\\/\\/media.api-sports.io\\/football\\/leagues\\/140.png\",\"flag\":\"https:\\/\\/media.api-sports.io\\/flags\\/es.svg\",\"season\":2021},\"team\":{\"id\":541,\"name\":\"Real Madrid\",\"logo\":\"https:\\/\\/media.api-sports.io\\/football\\/teams\\/541.png\"},\"form\":\"WDWWWWDLWDWWWWWWWDWLWDWDWWWWLWWWW\",\"fixtures\":{\"played\":{\"home\":16,\"away\":17,\"total\":33},\"wins\":{\"home\":11,\"away\":13,\"total\":24},\"draws\":{\"home\":4,\"away\":2,\"total\":6},\"loses\":{\"home\":1,\"away\":2,\"total\":3}},\"goals\":{\"for\":{\"total\":{\"home\":34,\"away\":35,\"total\":69},\"average\":{\"home\":\"2.1\",\"away\":\"2.1\",\"total\":\"2.1\"},\"minute\":{\"0-15\":{\"total\":6,\"percentage\":\"8.70%\"},\"16-30\":{\"total\":8,\"percentage\":\"11.59%\"},\"31-45\":{\"total\":9,\"percentage\":\"13.04%\"},\"46-60\":{\"total\":12,\"percentage\":\"17.39%\"},\"61-75\":{\"total\":11,\"percentage\":\"15.94%\"},\"76-90\":{\"total\":17,\"percentage\":\"24.64%\"},\"91-105\":{\"total\":6,\"percentage\":\"8.70%\"},\"106-120\":{\"total\":null,\"percentage\":null}}},\"against\":{\"total\":{\"home\":13,\"away\":16,\"total\":29},\"average\":{\"home\":\"0.8\",\"away\":\"0.9\",\"total\":\"0.9\"},\"minute\":{\"0-15\":{\"total\":6,\"percentage\":\"20.69%\"},\"16-30\":{\"total\":5,\"percentage\":\"17.24%\"},\"31-45\":{\"total\":4,\"percentage\":\"13.79%\"},\"46-60\":{\"total\":6,\"percentage\":\"20.69%\"},\"61-75\":{\"total\":2,\"percentage\":\"6.90%\"},\"76-90\":{\"total\":5,\"percentage\":\"17.24%\"},\"91-105\":{\"total\":1,\"percentage\":\"3.45%\"},\"106-120\":{\"total\":null,\"percentage\":null}}}},\"biggest\":{\"streak\":{\"wins\":7,\"draws\":1,\"loses\":1},\"wins\":{\"home\":\"6-1\",\"away\":\"1-4\"},\"loses\":{\"home\":\"0-4\",\"away\":\"2-1\"},\"goals\":{\"for\":{\"home\":6,\"away\":4},\"against\":{\"home\":4,\"away\":3}}},\"clean_sheet\":{\"home\":8,\"away\":5,\"total\":13},\"failed_to_score\":{\"home\":4,\"away\":2,\"total\":6},\"penalty\":{\"scored\":{\"total\":8,\"percentage\":\"100.00%\"},\"missed\":{\"total\":0,\"percentage\":\"0%\"},\"total\":8},\"lineups\":[{\"formation\":\"4-3-3\",\"played\":29},{\"formation\":\"4-4-2\",\"played\":1},{\"formation\":\"4-4-1-1\",\"played\":1},{\"formation\":\"4-1-3-2\",\"played\":1},{\"formation\":\"4-2-4\",\"played\":1}],\"cards\":{\"yellow\":{\"0-15\":{\"total\":2,\"percentage\":\"3.03%\"},\"16-30\":{\"total\":11,\"percentage\":\"16.67%\"},\"31-45\":{\"total\":8,\"percentage\":\"12.12%\"},\"46-60\":{\"total\":12,\"percentage\":\"18.18%\"},\"61-75\":{\"total\":13,\"percentage\":\"19.70%\"},\"76-90\":{\"total\":10,\"percentage\":\"15.15%\"},\"91-105\":{\"total\":9,\"percentage\":\"13.64%\"},\"106-120\":{\"total\":null,\"percentage\":null},\"\":{\"total\":1,\"percentage\":\"1.52%\"}},\"red\":{\"0-15\":{\"total\":null,\"percentage\":null},\"16-30\":{\"total\":null,\"percentage\":null},\"31-45\":{\"total\":null,\"percentage\":null},\"46-60\":{\"total\":null,\"percentage\":null},\"61-75\":{\"total\":null,\"percentage\":null},\"76-90\":{\"total\":null,\"percentage\":null},\"91-105\":{\"total\":null,\"percentage\":null},\"106-120\":{\"total\":null,\"percentage\":null}}}}}\n"
     ]
    }
   ],
   "source": [
    "import http.client\n",
    "\n",
    "conn = http.client.HTTPSConnection(\"api-football-v1.p.rapidapi.com\")\n",
    "\n",
    "headers = {\n",
    "    'X-RapidAPI-Host': \"api-football-v1.p.rapidapi.com\",\n",
    "    'X-RapidAPI-Key': \"d632407ca8msh1f120f905143008p1526afjsn686a1dfc5287\"\n",
    "    }\n",
    "\n",
    "conn.request(\"GET\", \"/v3/teams/statistics?league=140&season=2021&team=541\", headers=headers)\n",
    "\n",
    "res = conn.getresponse()\n",
    "data = res.read()\n",
    "\n",
    "print(data.decode(\"utf-8\"))"
   ]
  },
  {
   "cell_type": "code",
   "execution_count": 18,
   "outputs": [],
   "source": [
    "import json\n",
    "import pandas as pd\n",
    "from pandas import json_normalize"
   ],
   "metadata": {
    "collapsed": false,
    "pycharm": {
     "name": "#%%\n"
    }
   }
  },
  {
   "cell_type": "code",
   "execution_count": 19,
   "outputs": [],
   "source": [
    "decoded_data = data.decode('utf-8')\n",
    "json_data = json.loads(decoded_data)"
   ],
   "metadata": {
    "collapsed": false,
    "pycharm": {
     "name": "#%%\n"
    }
   }
  },
  {
   "cell_type": "code",
   "execution_count": 28,
   "outputs": [
    {
     "data": {
      "text/plain": "dict_keys(['get', 'parameters', 'errors', 'results', 'paging', 'response'])"
     },
     "execution_count": 28,
     "metadata": {},
     "output_type": "execute_result"
    }
   ],
   "source": [
    "json_data.keys()"
   ],
   "metadata": {
    "collapsed": false,
    "pycharm": {
     "name": "#%%\n"
    }
   }
  },
  {
   "cell_type": "code",
   "execution_count": 31,
   "outputs": [
    {
     "name": "stdout",
     "output_type": "stream",
     "text": [
      "{'league': {'id': 140, 'name': 'La Liga', 'country': 'Spain', 'logo': 'https://media.api-sports.io/football/leagues/140.png', 'flag': 'https://media.api-sports.io/flags/es.svg', 'season': 2021}, 'team': {'id': 541, 'name': 'Real Madrid', 'logo': 'https://media.api-sports.io/football/teams/541.png'}, 'form': 'WDWWWWDLWDWWWWWWWDWLWDWDWWWWLWWWW', 'fixtures': {'played': {'home': 16, 'away': 17, 'total': 33}, 'wins': {'home': 11, 'away': 13, 'total': 24}, 'draws': {'home': 4, 'away': 2, 'total': 6}, 'loses': {'home': 1, 'away': 2, 'total': 3}}, 'goals': {'for': {'total': {'home': 34, 'away': 35, 'total': 69}, 'average': {'home': '2.1', 'away': '2.1', 'total': '2.1'}, 'minute': {'0-15': {'total': 6, 'percentage': '8.70%'}, '16-30': {'total': 8, 'percentage': '11.59%'}, '31-45': {'total': 9, 'percentage': '13.04%'}, '46-60': {'total': 12, 'percentage': '17.39%'}, '61-75': {'total': 11, 'percentage': '15.94%'}, '76-90': {'total': 17, 'percentage': '24.64%'}, '91-105': {'total': 6, 'percentage': '8.70%'}, '106-120': {'total': None, 'percentage': None}}}, 'against': {'total': {'home': 13, 'away': 16, 'total': 29}, 'average': {'home': '0.8', 'away': '0.9', 'total': '0.9'}, 'minute': {'0-15': {'total': 6, 'percentage': '20.69%'}, '16-30': {'total': 5, 'percentage': '17.24%'}, '31-45': {'total': 4, 'percentage': '13.79%'}, '46-60': {'total': 6, 'percentage': '20.69%'}, '61-75': {'total': 2, 'percentage': '6.90%'}, '76-90': {'total': 5, 'percentage': '17.24%'}, '91-105': {'total': 1, 'percentage': '3.45%'}, '106-120': {'total': None, 'percentage': None}}}}, 'biggest': {'streak': {'wins': 7, 'draws': 1, 'loses': 1}, 'wins': {'home': '6-1', 'away': '1-4'}, 'loses': {'home': '0-4', 'away': '2-1'}, 'goals': {'for': {'home': 6, 'away': 4}, 'against': {'home': 4, 'away': 3}}}, 'clean_sheet': {'home': 8, 'away': 5, 'total': 13}, 'failed_to_score': {'home': 4, 'away': 2, 'total': 6}, 'penalty': {'scored': {'total': 8, 'percentage': '100.00%'}, 'missed': {'total': 0, 'percentage': '0%'}, 'total': 8}, 'lineups': [{'formation': '4-3-3', 'played': 29}, {'formation': '4-4-2', 'played': 1}, {'formation': '4-4-1-1', 'played': 1}, {'formation': '4-1-3-2', 'played': 1}, {'formation': '4-2-4', 'played': 1}], 'cards': {'yellow': {'0-15': {'total': 2, 'percentage': '3.03%'}, '16-30': {'total': 11, 'percentage': '16.67%'}, '31-45': {'total': 8, 'percentage': '12.12%'}, '46-60': {'total': 12, 'percentage': '18.18%'}, '61-75': {'total': 13, 'percentage': '19.70%'}, '76-90': {'total': 10, 'percentage': '15.15%'}, '91-105': {'total': 9, 'percentage': '13.64%'}, '106-120': {'total': None, 'percentage': None}, '': {'total': 1, 'percentage': '1.52%'}}, 'red': {'0-15': {'total': None, 'percentage': None}, '16-30': {'total': None, 'percentage': None}, '31-45': {'total': None, 'percentage': None}, '46-60': {'total': None, 'percentage': None}, '61-75': {'total': None, 'percentage': None}, '76-90': {'total': None, 'percentage': None}, '91-105': {'total': None, 'percentage': None}, '106-120': {'total': None, 'percentage': None}}}}\n"
     ]
    }
   ],
   "source": [
    "print(json_data['response'])"
   ],
   "metadata": {
    "collapsed": false,
    "pycharm": {
     "name": "#%%\n"
    }
   }
  },
  {
   "cell_type": "code",
   "execution_count": 40,
   "outputs": [
    {
     "name": "stdout",
     "output_type": "stream",
     "text": [
      "dict_keys(['league', 'team', 'form', 'fixtures', 'goals', 'biggest', 'clean_sheet', 'failed_to_score', 'penalty', 'lineups', 'cards'])\n"
     ]
    }
   ],
   "source": [
    "responses = json_data['response']\n",
    "print(responses.keys())"
   ],
   "metadata": {
    "collapsed": false,
    "pycharm": {
     "name": "#%%\n"
    }
   }
  },
  {
   "cell_type": "code",
   "execution_count": 44,
   "outputs": [],
   "source": [
    "import numpy as np"
   ],
   "metadata": {
    "collapsed": false,
    "pycharm": {
     "name": "#%%\n"
    }
   }
  },
  {
   "cell_type": "code",
   "execution_count": 45,
   "outputs": [],
   "source": [
    "headers = responses.items()"
   ],
   "metadata": {
    "collapsed": false,
    "pycharm": {
     "name": "#%%\n"
    }
   }
  },
  {
   "cell_type": "code",
   "execution_count": 47,
   "outputs": [],
   "source": [
    "headers_list = list(headers)\n",
    "\n",
    "my_array = np.array(headers_list, dtype='object')"
   ],
   "metadata": {
    "collapsed": false,
    "pycharm": {
     "name": "#%%\n"
    }
   }
  },
  {
   "cell_type": "code",
   "execution_count": 48,
   "outputs": [
    {
     "name": "stdout",
     "output_type": "stream",
     "text": [
      "[['league'\n",
      "  {'id': 140, 'name': 'La Liga', 'country': 'Spain', 'logo': 'https://media.api-sports.io/football/leagues/140.png', 'flag': 'https://media.api-sports.io/flags/es.svg', 'season': 2021}]\n",
      " ['team'\n",
      "  {'id': 541, 'name': 'Real Madrid', 'logo': 'https://media.api-sports.io/football/teams/541.png'}]\n",
      " ['form' 'WDWWWWDLWDWWWWWWWDWLWDWDWWWWLWWWW']\n",
      " ['fixtures'\n",
      "  {'played': {'home': 16, 'away': 17, 'total': 33}, 'wins': {'home': 11, 'away': 13, 'total': 24}, 'draws': {'home': 4, 'away': 2, 'total': 6}, 'loses': {'home': 1, 'away': 2, 'total': 3}}]\n",
      " ['goals'\n",
      "  {'for': {'total': {'home': 34, 'away': 35, 'total': 69}, 'average': {'home': '2.1', 'away': '2.1', 'total': '2.1'}, 'minute': {'0-15': {'total': 6, 'percentage': '8.70%'}, '16-30': {'total': 8, 'percentage': '11.59%'}, '31-45': {'total': 9, 'percentage': '13.04%'}, '46-60': {'total': 12, 'percentage': '17.39%'}, '61-75': {'total': 11, 'percentage': '15.94%'}, '76-90': {'total': 17, 'percentage': '24.64%'}, '91-105': {'total': 6, 'percentage': '8.70%'}, '106-120': {'total': None, 'percentage': None}}}, 'against': {'total': {'home': 13, 'away': 16, 'total': 29}, 'average': {'home': '0.8', 'away': '0.9', 'total': '0.9'}, 'minute': {'0-15': {'total': 6, 'percentage': '20.69%'}, '16-30': {'total': 5, 'percentage': '17.24%'}, '31-45': {'total': 4, 'percentage': '13.79%'}, '46-60': {'total': 6, 'percentage': '20.69%'}, '61-75': {'total': 2, 'percentage': '6.90%'}, '76-90': {'total': 5, 'percentage': '17.24%'}, '91-105': {'total': 1, 'percentage': '3.45%'}, '106-120': {'total': None, 'percentage': None}}}}]\n",
      " ['biggest'\n",
      "  {'streak': {'wins': 7, 'draws': 1, 'loses': 1}, 'wins': {'home': '6-1', 'away': '1-4'}, 'loses': {'home': '0-4', 'away': '2-1'}, 'goals': {'for': {'home': 6, 'away': 4}, 'against': {'home': 4, 'away': 3}}}]\n",
      " ['clean_sheet' {'home': 8, 'away': 5, 'total': 13}]\n",
      " ['failed_to_score' {'home': 4, 'away': 2, 'total': 6}]\n",
      " ['penalty'\n",
      "  {'scored': {'total': 8, 'percentage': '100.00%'}, 'missed': {'total': 0, 'percentage': '0%'}, 'total': 8}]\n",
      " ['lineups'\n",
      "  list([{'formation': '4-3-3', 'played': 29}, {'formation': '4-4-2', 'played': 1}, {'formation': '4-4-1-1', 'played': 1}, {'formation': '4-1-3-2', 'played': 1}, {'formation': '4-2-4', 'played': 1}])]\n",
      " ['cards'\n",
      "  {'yellow': {'0-15': {'total': 2, 'percentage': '3.03%'}, '16-30': {'total': 11, 'percentage': '16.67%'}, '31-45': {'total': 8, 'percentage': '12.12%'}, '46-60': {'total': 12, 'percentage': '18.18%'}, '61-75': {'total': 13, 'percentage': '19.70%'}, '76-90': {'total': 10, 'percentage': '15.15%'}, '91-105': {'total': 9, 'percentage': '13.64%'}, '106-120': {'total': None, 'percentage': None}, '': {'total': 1, 'percentage': '1.52%'}}, 'red': {'0-15': {'total': None, 'percentage': None}, '16-30': {'total': None, 'percentage': None}, '31-45': {'total': None, 'percentage': None}, '46-60': {'total': None, 'percentage': None}, '61-75': {'total': None, 'percentage': None}, '76-90': {'total': None, 'percentage': None}, '91-105': {'total': None, 'percentage': None}, '106-120': {'total': None, 'percentage': None}}}]]\n"
     ]
    }
   ],
   "source": [
    "print(my_array)"
   ],
   "metadata": {
    "collapsed": false,
    "pycharm": {
     "name": "#%%\n"
    }
   }
  },
  {
   "cell_type": "code",
   "execution_count": 49,
   "outputs": [
    {
     "name": "stdout",
     "output_type": "stream",
     "text": [
      "(11, 2)\n"
     ]
    }
   ],
   "source": [
    "print(my_array.shape)"
   ],
   "metadata": {
    "collapsed": false,
    "pycharm": {
     "name": "#%%\n"
    }
   }
  },
  {
   "cell_type": "code",
   "source": [
    "df = pd.DataFrame(my_array)"
   ],
   "metadata": {
    "collapsed": false,
    "pycharm": {
     "name": "#%%\n"
    }
   },
   "execution_count": 69,
   "outputs": []
  },
  {
   "cell_type": "code",
   "execution_count": 83,
   "outputs": [
    {
     "name": "stdout",
     "output_type": "stream",
     "text": [
      "                  0                                                  1\n",
      "0            league  {'id': 140, 'name': 'La Liga', 'country': 'Spa...\n",
      "1              team  {'id': 541, 'name': 'Real Madrid', 'logo': 'ht...\n",
      "2              form                  WDWWWWDLWDWWWWWWWDWLWDWDWWWWLWWWW\n",
      "3          fixtures  {'played': {'home': 16, 'away': 17, 'total': 3...\n",
      "4             goals  {'for': {'total': {'home': 34, 'away': 35, 'to...\n",
      "5           biggest  {'streak': {'wins': 7, 'draws': 1, 'loses': 1}...\n",
      "6       clean_sheet                {'home': 8, 'away': 5, 'total': 13}\n",
      "7   failed_to_score                 {'home': 4, 'away': 2, 'total': 6}\n",
      "8           penalty  {'scored': {'total': 8, 'percentage': '100.00%...\n",
      "9           lineups  [{'formation': '4-3-3', 'played': 29}, {'forma...\n",
      "10            cards  {'yellow': {'0-15': {'total': 2, 'percentage':...\n"
     ]
    }
   ],
   "source": [
    "print(df)"
   ],
   "metadata": {
    "collapsed": false,
    "pycharm": {
     "name": "#%%\n"
    }
   }
  },
  {
   "cell_type": "code",
   "execution_count": 88,
   "outputs": [
    {
     "name": "stdout",
     "output_type": "stream",
     "text": [
      "24\n"
     ]
    }
   ],
   "source": [
    "# Getting wins\n",
    "wins = my_array[2,1]\n",
    "counter = 0\n",
    "for i in wins:\n",
    "    if i == 'W':\n",
    "        counter += 1\n",
    "print(counter)"
   ],
   "metadata": {
    "collapsed": false,
    "pycharm": {
     "name": "#%%\n"
    }
   }
  },
  {
   "cell_type": "code",
   "execution_count": null,
   "outputs": [],
   "source": [],
   "metadata": {
    "collapsed": false,
    "pycharm": {
     "name": "#%%\n"
    }
   }
  }
 ],
 "metadata": {
  "kernelspec": {
   "display_name": "Python 3",
   "language": "python",
   "name": "python3"
  },
  "language_info": {
   "codemirror_mode": {
    "name": "ipython",
    "version": 2
   },
   "file_extension": ".py",
   "mimetype": "text/x-python",
   "name": "python",
   "nbconvert_exporter": "python",
   "pygments_lexer": "ipython2",
   "version": "2.7.6"
  }
 },
 "nbformat": 4,
 "nbformat_minor": 0
}